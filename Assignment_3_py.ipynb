{
 "cells": [
  {
   "cell_type": "code",
   "execution_count": 1,
   "metadata": {},
   "outputs": [
    {
     "name": "stdout",
     "output_type": "stream",
     "text": [
      "Enter a Number: 4\n",
      "Enter a Number: 5\n",
      "Enter a Number: bad data\n",
      "Invalid input\n",
      "Enter a Number: 7\n",
      "Enter a Number: done\n",
      "16.0 3 5.333333333333333\n"
     ]
    }
   ],
   "source": [
    "tot = 0\n",
    "count = 0\n",
    "avg = 0\n",
    "\n",
    "while True:\n",
    " try:\n",
    "    no = input(\"Enter a Number: \")\n",
    "    if (no == \"done\"):\n",
    "     break\n",
    "    val = float(no)\n",
    "    tot = val + tot\n",
    "    count = count + 1\n",
    "    avg = tot / count\n",
    " except:\n",
    "    print(\"Invalid input\")\n",
    "print(tot, count, avg)"
   ]
  },
  {
   "cell_type": "code",
   "execution_count": 2,
   "metadata": {},
   "outputs": [
    {
     "name": "stdout",
     "output_type": "stream",
     "text": [
      "Enter Number: 4\n",
      "Enter Number: 5\n",
      "Enter Number: bad data\n",
      "Invalid input\n",
      "Enter Number: 7\n",
      "Enter Number: done\n",
      "Total =  16\n",
      "Maximum =  7\n",
      "Minimum =  4\n"
     ]
    }
   ],
   "source": [
    "count = 0\n",
    "tot = 0\n",
    "num = list()\n",
    "while True:\n",
    " no = input(\"Enter Number: \")\n",
    " \n",
    " try: \n",
    "    no = int(no)\n",
    "    num.append(no)\n",
    "    tot = no + tot\n",
    "    count = count + 1\n",
    "    max_val = max(num)\n",
    "    min_val = min(num)\n",
    "    \n",
    " except:\n",
    "    if(no == \"done\"):\n",
    "      break\n",
    "    else:\n",
    "      print(\"Invalid input\")\n",
    "        \n",
    "print(\"Total = \",tot)\n",
    "print(\"Maximum = \",max_val)\n",
    "print(\"Minimum = \",min_val)"
   ]
  },
  {
   "cell_type": "code",
   "execution_count": 3,
   "metadata": {},
   "outputs": [
    {
     "name": "stdout",
     "output_type": "stream",
     "text": [
      "0.8475\n"
     ]
    }
   ],
   "source": [
    "str = 'X-DSPAM-Confidence:0.8475'\n",
    "posi = str.find(':')\n",
    "data = str[posi + 1:]\n",
    "float_val = float(data)\n",
    "print(float_val)"
   ]
  },
  {
   "cell_type": "code",
   "execution_count": 4,
   "metadata": {},
   "outputs": [
    {
     "name": "stdout",
     "output_type": "stream",
     "text": [
      "Enter file name: mbox-short.txt\n",
      "Average spam confidence:  0.7507185185185187\n"
     ]
    }
   ],
   "source": [
    "file = input(\"Enter file name: \")\n",
    "fhand = open(file)\n",
    "count =0\n",
    "tot = 0\n",
    "avg = 0\n",
    "for line in fhand:\n",
    "    if not line.startswith(\"X-DSPAM-Confidence:\") : continue\n",
    "    count = count + 1\n",
    "    no = float(line[21:])\n",
    "    tot = no + tot\n",
    "avg = tot / count\n",
    "print(\"Average spam confidence: \", avg)"
   ]
  },
  {
   "cell_type": "code",
   "execution_count": 5,
   "metadata": {},
   "outputs": [
    {
     "name": "stdout",
     "output_type": "stream",
     "text": [
      "Enter the file name:romeo.txt\n",
      "['Arise', 'But', 'It', 'Juliet', 'Who', 'already', 'and', 'breaks', 'east', 'envious', 'fair', 'grief', 'is', 'kill', 'light', 'moon', 'pale', 'sick', 'soft', 'sun', 'the', 'through', 'what', 'window', 'with', 'yonder']\n"
     ]
    }
   ],
   "source": [
    "fname = input(\"Enter the file name:\");\n",
    "list1 = list();\n",
    "try:\n",
    "    fhand = open(fname)\n",
    "except:\n",
    "    print(\"File cannot be found!,Please enter valid file name\")\n",
    "    exit()\n",
    "for eachline in fhand:\n",
    "    words = eachline.split()\n",
    "    for word in words:\n",
    "        if word not in list1:\n",
    "            list1.append(word);\n",
    "list1.sort();\n",
    "print(list1);"
   ]
  },
  {
   "cell_type": "code",
   "execution_count": 10,
   "metadata": {},
   "outputs": [
    {
     "name": "stdout",
     "output_type": "stream",
     "text": [
      "Enter file name: mbox-short.txt\n",
      "stephen.marquard@uct.ac.za\n",
      "louis@media.berkeley.edu\n",
      "zqian@umich.edu\n",
      "rjlowe@iupui.edu\n",
      "zqian@umich.edu\n",
      "rjlowe@iupui.edu\n",
      "cwen@iupui.edu\n",
      "cwen@iupui.edu\n",
      "gsilver@umich.edu\n",
      "gsilver@umich.edu\n",
      "zqian@umich.edu\n",
      "gsilver@umich.edu\n",
      "wagnermr@iupui.edu\n",
      "zqian@umich.edu\n",
      "antranig@caret.cam.ac.uk\n",
      "gopal.ramasammycook@gmail.com\n",
      "david.horwitz@uct.ac.za\n",
      "david.horwitz@uct.ac.za\n",
      "david.horwitz@uct.ac.za\n",
      "david.horwitz@uct.ac.za\n",
      "stephen.marquard@uct.ac.za\n",
      "louis@media.berkeley.edu\n",
      "louis@media.berkeley.edu\n",
      "ray@media.berkeley.edu\n",
      "cwen@iupui.edu\n",
      "cwen@iupui.edu\n",
      "cwen@iupui.edu\n",
      "There were 27 lines in the file with From as the first word\n"
     ]
    }
   ],
   "source": [
    "count = 0\n",
    "file = input(\"Enter file name: \")\n",
    "fhand = open(file)\n",
    "for line in fhand:\n",
    "    line = line.rstrip()\n",
    "    if not line.startswith('From '):\n",
    "     continue\n",
    "    word = line.split()\n",
    "    print(word[1])\n",
    "    count = count + 1\n",
    "print(\"There were\", count, \"lines in the file with From as the first word\")"
   ]
  },
  {
   "cell_type": "code",
   "execution_count": 11,
   "metadata": {},
   "outputs": [
    {
     "name": "stdout",
     "output_type": "stream",
     "text": [
      "Enter the file name:mbox-short.txt\n",
      "cwen@iupui.edu 5\n"
     ]
    }
   ],
   "source": [
    "fname = input(\"Enter the file name:\")\n",
    "email_list = list()\n",
    "maxoccurence = 0\n",
    "maxemail =  0\n",
    "counts = dict()\n",
    "try:\n",
    "    fhand = open(fname)\n",
    "except:\n",
    "    print(\"File cannot be found!,Please enter valid file name\")\n",
    "    exit()\n",
    "for eachline in fhand:\n",
    "    words = eachline.split()\n",
    "    if len(words) == 0 or words[0] != \"From\":\n",
    "        continue\n",
    "    email_list.append(words[1])\n",
    "\n",
    "for email in email_list:\n",
    "    counts[email] = counts.get(email, 0) + 1\n",
    "\n",
    "for key,value in counts.items() :\n",
    "      if value > maxoccurence:\n",
    "          maxoccurence = value\n",
    "          maxemail = key\n",
    "\n",
    "print(maxemail, maxoccurence)"
   ]
  },
  {
   "cell_type": "code",
   "execution_count": 12,
   "metadata": {},
   "outputs": [
    {
     "name": "stdout",
     "output_type": "stream",
     "text": [
      "Enter the file name:mbox-short.txt\n",
      "{'uct.ac.za': 6, 'media.berkeley.edu': 4, 'umich.edu': 7, 'iupui.edu': 8, 'caret.cam.ac.uk': 1, 'gmail.com': 1}\n"
     ]
    }
   ],
   "source": [
    "dictionary = dict()\n",
    "list1 = list()\n",
    "\n",
    "fnm = input(\"Enter the file name:\")\n",
    "fhand = open(fnm)\n",
    "for eachline in fhand:\n",
    "    words = eachline.split()\n",
    "    if len(words) == 0 or words[0] != \"From\":\n",
    "        continue\n",
    "    domain_start = words[1].find(\"@\")\n",
    "    domain_start += 1\n",
    "    domain = words[1][domain_start:]\n",
    "    if domain not in dictionary:\n",
    "        dictionary[domain] = 1\n",
    "    else:\n",
    "        dictionary[domain] += 1\n",
    "\n",
    "print(dictionary)"
   ]
  },
  {
   "cell_type": "code",
   "execution_count": 13,
   "metadata": {},
   "outputs": [
    {
     "name": "stdout",
     "output_type": "stream",
     "text": [
      "Enter the file name:mbox-short.txt\n",
      "04 3\n",
      "06 1\n",
      "07 1\n",
      "09 2\n",
      "10 3\n",
      "11 6\n",
      "14 1\n",
      "15 2\n",
      "16 4\n",
      "17 2\n",
      "18 1\n",
      "19 1\n"
     ]
    }
   ],
   "source": [
    "dictionary = dict()\n",
    "list1 = list()\n",
    "\n",
    "fnm = input(\"Enter the file name:\")\n",
    "fhand = open(fnm)\n",
    "for eachline in fhand:\n",
    "    words = eachline.split()\n",
    "    if len(words) == 0 or words[0] != \"From\":\n",
    "        continue\n",
    "    hr_end = words[5].find(\":\")\n",
    "    hour = words[5][:hr_end]\n",
    "    if hour not in dictionary:\n",
    "        dictionary[hour] = 1\n",
    "    else:\n",
    "        dictionary[hour] += 1\n",
    "\n",
    "for key,value in list(dictionary.items()):\n",
    "    list1.append((key,value))\n",
    "\n",
    "list1.sort()\n",
    "\n",
    "for key,value in list1:\n",
    "    print (key, value)"
   ]
  },
  {
   "cell_type": "markdown",
   "metadata": {},
   "source": []
  },
  {
   "cell_type": "code",
   "execution_count": 14,
   "metadata": {},
   "outputs": [
    {
     "name": "stdout",
     "output_type": "stream",
     "text": [
      "Enter your file namembox-short.txt\n",
      "0.093 e\n",
      "0.089 a\n",
      "0.077 i\n",
      "0.071 o\n",
      "0.069 t\n",
      "0.069 r\n",
      "0.064 s\n",
      "0.053 u\n",
      "0.053 c\n",
      "0.044 n\n",
      "0.043 p\n",
      "0.042 m\n",
      "0.034 d\n",
      "0.031 l\n",
      "0.024 h\n",
      "0.021 f\n",
      "0.02 k\n",
      "0.019 b\n",
      "0.018 g\n",
      "0.017 v\n",
      "0.016 j\n",
      "0.011 y\n",
      "0.01 w\n",
      "0.008 x\n",
      "0.001 z\n",
      "0.001 q\n"
     ]
    }
   ],
   "source": [
    "import string\n",
    "dictionary = dict()\n",
    "list1 = list()\n",
    "count = 0\n",
    "fname = input(\"Enter your file name\")\n",
    "fhandle = open(fname)\n",
    "try:\n",
    "    fhandle = open(fname)\n",
    "except:\n",
    "    print(\"Invalid file name\")\n",
    "    exit();\n",
    "for eachline in fhandle:\n",
    "    eachline = eachline.translate(eachline.maketrans('', '', string.punctuation))\n",
    "    eachline = eachline.translate(eachline.maketrans('', '', string.digits))\n",
    "    eachline = eachline.lower()\n",
    "    eachline = eachline.split()\n",
    "\n",
    "    for word in eachline:\n",
    "        for letter in word:\n",
    "            count += 1\n",
    "            if letter not in dictionary:\n",
    "                dictionary[letter] = 1\n",
    "            else:\n",
    "                dictionary[letter] += 1\n",
    "\n",
    "\n",
    "for key,value in list(dictionary.items()):\n",
    "    list1.append( (round(value / count, 3) , key))\n",
    "\n",
    "list1.sort(reverse = True)\n",
    "\n",
    "for key,value in list1:\n",
    "    print(key,value)"
   ]
  },
  {
   "cell_type": "code",
   "execution_count": null,
   "metadata": {},
   "outputs": [],
   "source": []
  }
 ],
 "metadata": {
  "kernelspec": {
   "display_name": "Python 3",
   "language": "python",
   "name": "python3"
  },
  "language_info": {
   "codemirror_mode": {
    "name": "ipython",
    "version": 3
   },
   "file_extension": ".py",
   "mimetype": "text/x-python",
   "name": "python",
   "nbconvert_exporter": "python",
   "pygments_lexer": "ipython3",
   "version": "3.7.3"
  }
 },
 "nbformat": 4,
 "nbformat_minor": 2
}
